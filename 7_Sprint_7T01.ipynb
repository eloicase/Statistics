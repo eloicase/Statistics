{
 "cells": [
  {
   "cell_type": "markdown",
   "id": "2179008d",
   "metadata": {},
   "source": [
    "## 7_Sprint_7T01\n",
    "### Tasca dades, probabilitats i estadístiques\n",
    "#### Eloi Canals"
   ]
  },
  {
   "cell_type": "code",
   "execution_count": 1,
   "id": "9d9c1a59",
   "metadata": {},
   "outputs": [],
   "source": [
    "# imports\n",
    "import pandas as pd\n",
    "import numpy as np\n",
    "\n",
    "import scipy\n",
    "from scipy import stats\n",
    "\n",
    "import matplotlib.pyplot as plt\n",
    "import seaborn as sns"
   ]
  },
  {
   "cell_type": "code",
   "execution_count": 2,
   "id": "ce835119",
   "metadata": {},
   "outputs": [
    {
     "data": {
      "text/html": [
       "<div>\n",
       "<style scoped>\n",
       "    .dataframe tbody tr th:only-of-type {\n",
       "        vertical-align: middle;\n",
       "    }\n",
       "\n",
       "    .dataframe tbody tr th {\n",
       "        vertical-align: top;\n",
       "    }\n",
       "\n",
       "    .dataframe thead th {\n",
       "        text-align: right;\n",
       "    }\n",
       "</style>\n",
       "<table border=\"1\" class=\"dataframe\">\n",
       "  <thead>\n",
       "    <tr style=\"text-align: right;\">\n",
       "      <th></th>\n",
       "      <th>player</th>\n",
       "      <th>team</th>\n",
       "      <th>position</th>\n",
       "      <th>salary</th>\n",
       "    </tr>\n",
       "  </thead>\n",
       "  <tbody>\n",
       "    <tr>\n",
       "      <th>0</th>\n",
       "      <td>Brandon Webb</td>\n",
       "      <td>Arizona Diamondbacks</td>\n",
       "      <td>Pitcher</td>\n",
       "      <td>8500.0</td>\n",
       "    </tr>\n",
       "    <tr>\n",
       "      <th>1</th>\n",
       "      <td>Danny Haren</td>\n",
       "      <td>Arizona Diamondbacks</td>\n",
       "      <td>Pitcher</td>\n",
       "      <td>8250.0</td>\n",
       "    </tr>\n",
       "    <tr>\n",
       "      <th>2</th>\n",
       "      <td>Chris Snyder</td>\n",
       "      <td>Arizona Diamondbacks</td>\n",
       "      <td>Catcher</td>\n",
       "      <td>5250.0</td>\n",
       "    </tr>\n",
       "    <tr>\n",
       "      <th>3</th>\n",
       "      <td>Edwin Jackson</td>\n",
       "      <td>Arizona Diamondbacks</td>\n",
       "      <td>Pitcher</td>\n",
       "      <td>4600.0</td>\n",
       "    </tr>\n",
       "    <tr>\n",
       "      <th>4</th>\n",
       "      <td>Adam LaRoche</td>\n",
       "      <td>Arizona Diamondbacks</td>\n",
       "      <td>First Baseman</td>\n",
       "      <td>4500.0</td>\n",
       "    </tr>\n",
       "  </tbody>\n",
       "</table>\n",
       "</div>"
      ],
      "text/plain": [
       "          player                  team       position  salary\n",
       "0   Brandon Webb  Arizona Diamondbacks        Pitcher  8500.0\n",
       "1    Danny Haren  Arizona Diamondbacks        Pitcher  8250.0\n",
       "2   Chris Snyder  Arizona Diamondbacks        Catcher  5250.0\n",
       "3  Edwin Jackson  Arizona Diamondbacks        Pitcher  4600.0\n",
       "4   Adam LaRoche  Arizona Diamondbacks  First Baseman  4500.0"
      ]
     },
     "execution_count": 2,
     "metadata": {},
     "output_type": "execute_result"
    }
   ],
   "source": [
    "# proves amb MLB\n",
    "mlb = pd.read_csv('mlb.txt', sep = \"\t\")\n",
    "mlb.head()"
   ]
  },
  {
   "cell_type": "code",
   "execution_count": 3,
   "id": "5173d127",
   "metadata": {},
   "outputs": [
    {
     "data": {
      "text/html": [
       "<div>\n",
       "<style scoped>\n",
       "    .dataframe tbody tr th:only-of-type {\n",
       "        vertical-align: middle;\n",
       "    }\n",
       "\n",
       "    .dataframe tbody tr th {\n",
       "        vertical-align: top;\n",
       "    }\n",
       "\n",
       "    .dataframe thead th {\n",
       "        text-align: right;\n",
       "    }\n",
       "</style>\n",
       "<table border=\"1\" class=\"dataframe\">\n",
       "  <thead>\n",
       "    <tr style=\"text-align: right;\">\n",
       "      <th></th>\n",
       "      <th>salary</th>\n",
       "    </tr>\n",
       "  </thead>\n",
       "  <tbody>\n",
       "    <tr>\n",
       "      <th>count</th>\n",
       "      <td>828.000000</td>\n",
       "    </tr>\n",
       "    <tr>\n",
       "      <th>mean</th>\n",
       "      <td>3281.828339</td>\n",
       "    </tr>\n",
       "    <tr>\n",
       "      <th>std</th>\n",
       "      <td>4465.448980</td>\n",
       "    </tr>\n",
       "    <tr>\n",
       "      <th>min</th>\n",
       "      <td>400.000000</td>\n",
       "    </tr>\n",
       "    <tr>\n",
       "      <th>25%</th>\n",
       "      <td>418.315000</td>\n",
       "    </tr>\n",
       "    <tr>\n",
       "      <th>50%</th>\n",
       "      <td>1093.750000</td>\n",
       "    </tr>\n",
       "    <tr>\n",
       "      <th>75%</th>\n",
       "      <td>4250.000000</td>\n",
       "    </tr>\n",
       "    <tr>\n",
       "      <th>max</th>\n",
       "      <td>33000.000000</td>\n",
       "    </tr>\n",
       "  </tbody>\n",
       "</table>\n",
       "</div>"
      ],
      "text/plain": [
       "             salary\n",
       "count    828.000000\n",
       "mean    3281.828339\n",
       "std     4465.448980\n",
       "min      400.000000\n",
       "25%      418.315000\n",
       "50%     1093.750000\n",
       "75%     4250.000000\n",
       "max    33000.000000"
      ]
     },
     "execution_count": 3,
     "metadata": {},
     "output_type": "execute_result"
    }
   ],
   "source": [
    "mlb.describe()"
   ]
  },
  {
   "cell_type": "markdown",
   "id": "44a3b84e",
   "metadata": {},
   "source": [
    "   #### Exercici 1. Moda, la mediana, la desviació estàndard i la mitjana aritmètica"
   ]
  },
  {
   "cell_type": "code",
   "execution_count": 4,
   "id": "eef8ec61",
   "metadata": {},
   "outputs": [
    {
     "data": {
      "text/plain": [
       "ModeResult(mode=array([400.]), count=array([41]))"
      ]
     },
     "execution_count": 4,
     "metadata": {},
     "output_type": "execute_result"
    }
   ],
   "source": [
    "# Moda.\n",
    "mlb_mode = scipy.stats.mode(mlb.salary, axis=0, nan_policy='propagate')\n",
    "mlb_mode"
   ]
  },
  {
   "cell_type": "code",
   "execution_count": 5,
   "id": "b0935850",
   "metadata": {},
   "outputs": [
    {
     "data": {
      "text/plain": [
       "salary    1093.75\n",
       "dtype: float64"
      ]
     },
     "execution_count": 5,
     "metadata": {},
     "output_type": "execute_result"
    }
   ],
   "source": [
    "# Mediana\n",
    "mlb.median()"
   ]
  },
  {
   "cell_type": "code",
   "execution_count": 6,
   "id": "b8b50700",
   "metadata": {},
   "outputs": [
    {
     "data": {
      "text/plain": [
       "salary    4465.44898\n",
       "dtype: float64"
      ]
     },
     "execution_count": 6,
     "metadata": {},
     "output_type": "execute_result"
    }
   ],
   "source": [
    "# Standard Deviation\n",
    "mlb.std()"
   ]
  },
  {
   "cell_type": "code",
   "execution_count": 7,
   "id": "51d85a07",
   "metadata": {},
   "outputs": [
    {
     "data": {
      "text/plain": [
       "salary    3281.828339\n",
       "dtype: float64"
      ]
     },
     "execution_count": 7,
     "metadata": {},
     "output_type": "execute_result"
    }
   ],
   "source": [
    "# Mitjana aritmetica\n",
    "mlb.mean()"
   ]
  },
  {
   "cell_type": "markdown",
   "id": "bd0e5fe4",
   "metadata": {},
   "source": [
    "#### Exercici 2. Selecciona dos atributs i calcula'n la seva correlació. "
   ]
  },
  {
   "cell_type": "markdown",
   "id": "80e8ef44",
   "metadata": {},
   "source": [
    "#### Nivell 2. Exercici 3. Calcula la correlació de tots els atributs entre sí i representa'ls en una matriu amb diferents colors d'intensitat"
   ]
  },
  {
   "cell_type": "code",
   "execution_count": 8,
   "id": "e19957be",
   "metadata": {},
   "outputs": [
    {
     "data": {
      "text/plain": [
       "array(['Pitcher', 'Catcher', 'First Baseman', 'Outfielder', 'Shortstop',\n",
       "       'Second Baseman', 'Third Baseman', 'Designated Hitter',\n",
       "       'Infielder'], dtype=object)"
      ]
     },
     "execution_count": 8,
     "metadata": {},
     "output_type": "execute_result"
    }
   ],
   "source": [
    "## Afegim els atributs corresponents a Position en forma numèrica\n",
    "positions_u = mlb.position.unique()\n",
    "positions_u"
   ]
  },
  {
   "cell_type": "code",
   "execution_count": 9,
   "id": "a9038e79",
   "metadata": {},
   "outputs": [
    {
     "data": {
      "text/html": [
       "<div>\n",
       "<style scoped>\n",
       "    .dataframe tbody tr th:only-of-type {\n",
       "        vertical-align: middle;\n",
       "    }\n",
       "\n",
       "    .dataframe tbody tr th {\n",
       "        vertical-align: top;\n",
       "    }\n",
       "\n",
       "    .dataframe thead th {\n",
       "        text-align: right;\n",
       "    }\n",
       "</style>\n",
       "<table border=\"1\" class=\"dataframe\">\n",
       "  <thead>\n",
       "    <tr style=\"text-align: right;\">\n",
       "      <th></th>\n",
       "      <th>Catcher</th>\n",
       "      <th>Designated Hitter</th>\n",
       "      <th>First Baseman</th>\n",
       "      <th>Infielder</th>\n",
       "      <th>Outfielder</th>\n",
       "      <th>Pitcher</th>\n",
       "      <th>Second Baseman</th>\n",
       "      <th>Shortstop</th>\n",
       "      <th>Third Baseman</th>\n",
       "    </tr>\n",
       "  </thead>\n",
       "  <tbody>\n",
       "    <tr>\n",
       "      <th>0</th>\n",
       "      <td>0</td>\n",
       "      <td>0</td>\n",
       "      <td>0</td>\n",
       "      <td>0</td>\n",
       "      <td>0</td>\n",
       "      <td>1</td>\n",
       "      <td>0</td>\n",
       "      <td>0</td>\n",
       "      <td>0</td>\n",
       "    </tr>\n",
       "    <tr>\n",
       "      <th>1</th>\n",
       "      <td>0</td>\n",
       "      <td>0</td>\n",
       "      <td>0</td>\n",
       "      <td>0</td>\n",
       "      <td>0</td>\n",
       "      <td>1</td>\n",
       "      <td>0</td>\n",
       "      <td>0</td>\n",
       "      <td>0</td>\n",
       "    </tr>\n",
       "    <tr>\n",
       "      <th>2</th>\n",
       "      <td>1</td>\n",
       "      <td>0</td>\n",
       "      <td>0</td>\n",
       "      <td>0</td>\n",
       "      <td>0</td>\n",
       "      <td>0</td>\n",
       "      <td>0</td>\n",
       "      <td>0</td>\n",
       "      <td>0</td>\n",
       "    </tr>\n",
       "    <tr>\n",
       "      <th>3</th>\n",
       "      <td>0</td>\n",
       "      <td>0</td>\n",
       "      <td>0</td>\n",
       "      <td>0</td>\n",
       "      <td>0</td>\n",
       "      <td>1</td>\n",
       "      <td>0</td>\n",
       "      <td>0</td>\n",
       "      <td>0</td>\n",
       "    </tr>\n",
       "    <tr>\n",
       "      <th>4</th>\n",
       "      <td>0</td>\n",
       "      <td>0</td>\n",
       "      <td>1</td>\n",
       "      <td>0</td>\n",
       "      <td>0</td>\n",
       "      <td>0</td>\n",
       "      <td>0</td>\n",
       "      <td>0</td>\n",
       "      <td>0</td>\n",
       "    </tr>\n",
       "    <tr>\n",
       "      <th>...</th>\n",
       "      <td>...</td>\n",
       "      <td>...</td>\n",
       "      <td>...</td>\n",
       "      <td>...</td>\n",
       "      <td>...</td>\n",
       "      <td>...</td>\n",
       "      <td>...</td>\n",
       "      <td>...</td>\n",
       "      <td>...</td>\n",
       "    </tr>\n",
       "    <tr>\n",
       "      <th>823</th>\n",
       "      <td>0</td>\n",
       "      <td>0</td>\n",
       "      <td>0</td>\n",
       "      <td>0</td>\n",
       "      <td>0</td>\n",
       "      <td>1</td>\n",
       "      <td>0</td>\n",
       "      <td>0</td>\n",
       "      <td>0</td>\n",
       "    </tr>\n",
       "    <tr>\n",
       "      <th>824</th>\n",
       "      <td>0</td>\n",
       "      <td>0</td>\n",
       "      <td>0</td>\n",
       "      <td>0</td>\n",
       "      <td>0</td>\n",
       "      <td>0</td>\n",
       "      <td>0</td>\n",
       "      <td>1</td>\n",
       "      <td>0</td>\n",
       "    </tr>\n",
       "    <tr>\n",
       "      <th>825</th>\n",
       "      <td>0</td>\n",
       "      <td>0</td>\n",
       "      <td>0</td>\n",
       "      <td>0</td>\n",
       "      <td>0</td>\n",
       "      <td>1</td>\n",
       "      <td>0</td>\n",
       "      <td>0</td>\n",
       "      <td>0</td>\n",
       "    </tr>\n",
       "    <tr>\n",
       "      <th>826</th>\n",
       "      <td>0</td>\n",
       "      <td>0</td>\n",
       "      <td>0</td>\n",
       "      <td>0</td>\n",
       "      <td>0</td>\n",
       "      <td>1</td>\n",
       "      <td>0</td>\n",
       "      <td>0</td>\n",
       "      <td>0</td>\n",
       "    </tr>\n",
       "    <tr>\n",
       "      <th>827</th>\n",
       "      <td>0</td>\n",
       "      <td>0</td>\n",
       "      <td>0</td>\n",
       "      <td>0</td>\n",
       "      <td>1</td>\n",
       "      <td>0</td>\n",
       "      <td>0</td>\n",
       "      <td>0</td>\n",
       "      <td>0</td>\n",
       "    </tr>\n",
       "  </tbody>\n",
       "</table>\n",
       "<p>828 rows × 9 columns</p>\n",
       "</div>"
      ],
      "text/plain": [
       "     Catcher  Designated Hitter  First Baseman  Infielder  Outfielder  \\\n",
       "0          0                  0              0          0           0   \n",
       "1          0                  0              0          0           0   \n",
       "2          1                  0              0          0           0   \n",
       "3          0                  0              0          0           0   \n",
       "4          0                  0              1          0           0   \n",
       "..       ...                ...            ...        ...         ...   \n",
       "823        0                  0              0          0           0   \n",
       "824        0                  0              0          0           0   \n",
       "825        0                  0              0          0           0   \n",
       "826        0                  0              0          0           0   \n",
       "827        0                  0              0          0           1   \n",
       "\n",
       "     Pitcher  Second Baseman  Shortstop  Third Baseman  \n",
       "0          1               0          0              0  \n",
       "1          1               0          0              0  \n",
       "2          0               0          0              0  \n",
       "3          1               0          0              0  \n",
       "4          0               0          0              0  \n",
       "..       ...             ...        ...            ...  \n",
       "823        1               0          0              0  \n",
       "824        0               0          1              0  \n",
       "825        1               0          0              0  \n",
       "826        1               0          0              0  \n",
       "827        0               0          0              0  \n",
       "\n",
       "[828 rows x 9 columns]"
      ]
     },
     "execution_count": 9,
     "metadata": {},
     "output_type": "execute_result"
    }
   ],
   "source": [
    "desglose_df = mlb.position.str.get_dummies(sep='|')\n",
    "desglose_df"
   ]
  },
  {
   "cell_type": "code",
   "execution_count": 10,
   "id": "8c1c03ce",
   "metadata": {},
   "outputs": [],
   "source": [
    "mlb = mlb.join(desglose_df)\n"
   ]
  },
  {
   "cell_type": "code",
   "execution_count": 11,
   "id": "7adda2c8",
   "metadata": {},
   "outputs": [
    {
     "data": {
      "text/html": [
       "<div>\n",
       "<style scoped>\n",
       "    .dataframe tbody tr th:only-of-type {\n",
       "        vertical-align: middle;\n",
       "    }\n",
       "\n",
       "    .dataframe tbody tr th {\n",
       "        vertical-align: top;\n",
       "    }\n",
       "\n",
       "    .dataframe thead th {\n",
       "        text-align: right;\n",
       "    }\n",
       "</style>\n",
       "<table border=\"1\" class=\"dataframe\">\n",
       "  <thead>\n",
       "    <tr style=\"text-align: right;\">\n",
       "      <th></th>\n",
       "      <th>player</th>\n",
       "      <th>team</th>\n",
       "      <th>position</th>\n",
       "      <th>salary</th>\n",
       "      <th>Catcher</th>\n",
       "      <th>Designated Hitter</th>\n",
       "      <th>First Baseman</th>\n",
       "      <th>Infielder</th>\n",
       "      <th>Outfielder</th>\n",
       "      <th>Pitcher</th>\n",
       "      <th>Second Baseman</th>\n",
       "      <th>Shortstop</th>\n",
       "      <th>Third Baseman</th>\n",
       "    </tr>\n",
       "  </thead>\n",
       "  <tbody>\n",
       "    <tr>\n",
       "      <th>0</th>\n",
       "      <td>Brandon Webb</td>\n",
       "      <td>Arizona Diamondbacks</td>\n",
       "      <td>Pitcher</td>\n",
       "      <td>8500.0</td>\n",
       "      <td>0</td>\n",
       "      <td>0</td>\n",
       "      <td>0</td>\n",
       "      <td>0</td>\n",
       "      <td>0</td>\n",
       "      <td>1</td>\n",
       "      <td>0</td>\n",
       "      <td>0</td>\n",
       "      <td>0</td>\n",
       "    </tr>\n",
       "    <tr>\n",
       "      <th>1</th>\n",
       "      <td>Danny Haren</td>\n",
       "      <td>Arizona Diamondbacks</td>\n",
       "      <td>Pitcher</td>\n",
       "      <td>8250.0</td>\n",
       "      <td>0</td>\n",
       "      <td>0</td>\n",
       "      <td>0</td>\n",
       "      <td>0</td>\n",
       "      <td>0</td>\n",
       "      <td>1</td>\n",
       "      <td>0</td>\n",
       "      <td>0</td>\n",
       "      <td>0</td>\n",
       "    </tr>\n",
       "    <tr>\n",
       "      <th>2</th>\n",
       "      <td>Chris Snyder</td>\n",
       "      <td>Arizona Diamondbacks</td>\n",
       "      <td>Catcher</td>\n",
       "      <td>5250.0</td>\n",
       "      <td>1</td>\n",
       "      <td>0</td>\n",
       "      <td>0</td>\n",
       "      <td>0</td>\n",
       "      <td>0</td>\n",
       "      <td>0</td>\n",
       "      <td>0</td>\n",
       "      <td>0</td>\n",
       "      <td>0</td>\n",
       "    </tr>\n",
       "    <tr>\n",
       "      <th>3</th>\n",
       "      <td>Edwin Jackson</td>\n",
       "      <td>Arizona Diamondbacks</td>\n",
       "      <td>Pitcher</td>\n",
       "      <td>4600.0</td>\n",
       "      <td>0</td>\n",
       "      <td>0</td>\n",
       "      <td>0</td>\n",
       "      <td>0</td>\n",
       "      <td>0</td>\n",
       "      <td>1</td>\n",
       "      <td>0</td>\n",
       "      <td>0</td>\n",
       "      <td>0</td>\n",
       "    </tr>\n",
       "    <tr>\n",
       "      <th>4</th>\n",
       "      <td>Adam LaRoche</td>\n",
       "      <td>Arizona Diamondbacks</td>\n",
       "      <td>First Baseman</td>\n",
       "      <td>4500.0</td>\n",
       "      <td>0</td>\n",
       "      <td>0</td>\n",
       "      <td>1</td>\n",
       "      <td>0</td>\n",
       "      <td>0</td>\n",
       "      <td>0</td>\n",
       "      <td>0</td>\n",
       "      <td>0</td>\n",
       "      <td>0</td>\n",
       "    </tr>\n",
       "  </tbody>\n",
       "</table>\n",
       "</div>"
      ],
      "text/plain": [
       "          player                  team       position  salary  Catcher  \\\n",
       "0   Brandon Webb  Arizona Diamondbacks        Pitcher  8500.0        0   \n",
       "1    Danny Haren  Arizona Diamondbacks        Pitcher  8250.0        0   \n",
       "2   Chris Snyder  Arizona Diamondbacks        Catcher  5250.0        1   \n",
       "3  Edwin Jackson  Arizona Diamondbacks        Pitcher  4600.0        0   \n",
       "4   Adam LaRoche  Arizona Diamondbacks  First Baseman  4500.0        0   \n",
       "\n",
       "   Designated Hitter  First Baseman  Infielder  Outfielder  Pitcher  \\\n",
       "0                  0              0          0           0        1   \n",
       "1                  0              0          0           0        1   \n",
       "2                  0              0          0           0        0   \n",
       "3                  0              0          0           0        1   \n",
       "4                  0              1          0           0        0   \n",
       "\n",
       "   Second Baseman  Shortstop  Third Baseman  \n",
       "0               0          0              0  \n",
       "1               0          0              0  \n",
       "2               0          0              0  \n",
       "3               0          0              0  \n",
       "4               0          0              0  "
      ]
     },
     "execution_count": 11,
     "metadata": {},
     "output_type": "execute_result"
    }
   ],
   "source": [
    "mlb.head()"
   ]
  },
  {
   "cell_type": "code",
   "execution_count": 12,
   "id": "3eb9bd29",
   "metadata": {},
   "outputs": [
    {
     "data": {
      "text/html": [
       "<div>\n",
       "<style scoped>\n",
       "    .dataframe tbody tr th:only-of-type {\n",
       "        vertical-align: middle;\n",
       "    }\n",
       "\n",
       "    .dataframe tbody tr th {\n",
       "        vertical-align: top;\n",
       "    }\n",
       "\n",
       "    .dataframe thead th {\n",
       "        text-align: right;\n",
       "    }\n",
       "</style>\n",
       "<table border=\"1\" class=\"dataframe\">\n",
       "  <thead>\n",
       "    <tr style=\"text-align: right;\">\n",
       "      <th></th>\n",
       "      <th>salary</th>\n",
       "      <th>Pitcher</th>\n",
       "    </tr>\n",
       "  </thead>\n",
       "  <tbody>\n",
       "    <tr>\n",
       "      <th>salary</th>\n",
       "      <td>1.000000</td>\n",
       "      <td>-0.062722</td>\n",
       "    </tr>\n",
       "    <tr>\n",
       "      <th>Pitcher</th>\n",
       "      <td>-0.062722</td>\n",
       "      <td>1.000000</td>\n",
       "    </tr>\n",
       "  </tbody>\n",
       "</table>\n",
       "</div>"
      ],
      "text/plain": [
       "           salary   Pitcher\n",
       "salary   1.000000 -0.062722\n",
       "Pitcher -0.062722  1.000000"
      ]
     },
     "execution_count": 12,
     "metadata": {},
     "output_type": "execute_result"
    }
   ],
   "source": [
    "# Correlació entre sou i position Pitcher\n",
    "mlb[['salary','Pitcher']].corr()"
   ]
  },
  {
   "cell_type": "markdown",
   "id": "f110ff14",
   "metadata": {},
   "source": [
    "#### Nivell 3. Exercici 3. calcula la correlació de tots els atributs entre sí i representa'ls en una matriu amb diferents colors d'intensitat."
   ]
  },
  {
   "cell_type": "code",
   "execution_count": 13,
   "id": "ccd76a61",
   "metadata": {},
   "outputs": [
    {
     "data": {
      "text/html": [
       "<div>\n",
       "<style scoped>\n",
       "    .dataframe tbody tr th:only-of-type {\n",
       "        vertical-align: middle;\n",
       "    }\n",
       "\n",
       "    .dataframe tbody tr th {\n",
       "        vertical-align: top;\n",
       "    }\n",
       "\n",
       "    .dataframe thead th {\n",
       "        text-align: right;\n",
       "    }\n",
       "</style>\n",
       "<table border=\"1\" class=\"dataframe\">\n",
       "  <thead>\n",
       "    <tr style=\"text-align: right;\">\n",
       "      <th></th>\n",
       "      <th>salary</th>\n",
       "      <th>Catcher</th>\n",
       "      <th>Designated Hitter</th>\n",
       "      <th>First Baseman</th>\n",
       "      <th>Infielder</th>\n",
       "      <th>Outfielder</th>\n",
       "      <th>Pitcher</th>\n",
       "      <th>Second Baseman</th>\n",
       "      <th>Shortstop</th>\n",
       "      <th>Third Baseman</th>\n",
       "    </tr>\n",
       "  </thead>\n",
       "  <tbody>\n",
       "    <tr>\n",
       "      <th>salary</th>\n",
       "      <td>1.000000</td>\n",
       "      <td>-0.089400</td>\n",
       "      <td>0.040427</td>\n",
       "      <td>0.131809</td>\n",
       "      <td>-0.039206</td>\n",
       "      <td>0.049352</td>\n",
       "      <td>-0.062722</td>\n",
       "      <td>-0.014403</td>\n",
       "      <td>-0.026414</td>\n",
       "      <td>0.073882</td>\n",
       "    </tr>\n",
       "    <tr>\n",
       "      <th>Catcher</th>\n",
       "      <td>-0.089400</td>\n",
       "      <td>1.000000</td>\n",
       "      <td>-0.027398</td>\n",
       "      <td>-0.068590</td>\n",
       "      <td>-0.020673</td>\n",
       "      <td>-0.138427</td>\n",
       "      <td>-0.293866</td>\n",
       "      <td>-0.073607</td>\n",
       "      <td>-0.079915</td>\n",
       "      <td>-0.071965</td>\n",
       "    </tr>\n",
       "    <tr>\n",
       "      <th>Designated Hitter</th>\n",
       "      <td>0.040427</td>\n",
       "      <td>-0.027398</td>\n",
       "      <td>1.000000</td>\n",
       "      <td>-0.021345</td>\n",
       "      <td>-0.006433</td>\n",
       "      <td>-0.043078</td>\n",
       "      <td>-0.091449</td>\n",
       "      <td>-0.022906</td>\n",
       "      <td>-0.024869</td>\n",
       "      <td>-0.022395</td>\n",
       "    </tr>\n",
       "    <tr>\n",
       "      <th>First Baseman</th>\n",
       "      <td>0.131809</td>\n",
       "      <td>-0.068590</td>\n",
       "      <td>-0.021345</td>\n",
       "      <td>1.000000</td>\n",
       "      <td>-0.016106</td>\n",
       "      <td>-0.107842</td>\n",
       "      <td>-0.228938</td>\n",
       "      <td>-0.057344</td>\n",
       "      <td>-0.062259</td>\n",
       "      <td>-0.056065</td>\n",
       "    </tr>\n",
       "    <tr>\n",
       "      <th>Infielder</th>\n",
       "      <td>-0.039206</td>\n",
       "      <td>-0.020673</td>\n",
       "      <td>-0.006433</td>\n",
       "      <td>-0.016106</td>\n",
       "      <td>1.000000</td>\n",
       "      <td>-0.032504</td>\n",
       "      <td>-0.069003</td>\n",
       "      <td>-0.017284</td>\n",
       "      <td>-0.018765</td>\n",
       "      <td>-0.016898</td>\n",
       "    </tr>\n",
       "  </tbody>\n",
       "</table>\n",
       "</div>"
      ],
      "text/plain": [
       "                     salary   Catcher  Designated Hitter  First Baseman  \\\n",
       "salary             1.000000 -0.089400           0.040427       0.131809   \n",
       "Catcher           -0.089400  1.000000          -0.027398      -0.068590   \n",
       "Designated Hitter  0.040427 -0.027398           1.000000      -0.021345   \n",
       "First Baseman      0.131809 -0.068590          -0.021345       1.000000   \n",
       "Infielder         -0.039206 -0.020673          -0.006433      -0.016106   \n",
       "\n",
       "                   Infielder  Outfielder   Pitcher  Second Baseman  Shortstop  \\\n",
       "salary             -0.039206    0.049352 -0.062722       -0.014403  -0.026414   \n",
       "Catcher            -0.020673   -0.138427 -0.293866       -0.073607  -0.079915   \n",
       "Designated Hitter  -0.006433   -0.043078 -0.091449       -0.022906  -0.024869   \n",
       "First Baseman      -0.016106   -0.107842 -0.228938       -0.057344  -0.062259   \n",
       "Infielder           1.000000   -0.032504 -0.069003       -0.017284  -0.018765   \n",
       "\n",
       "                   Third Baseman  \n",
       "salary                  0.073882  \n",
       "Catcher                -0.071965  \n",
       "Designated Hitter      -0.022395  \n",
       "First Baseman          -0.056065  \n",
       "Infielder              -0.016898  "
      ]
     },
     "execution_count": 13,
     "metadata": {},
     "output_type": "execute_result"
    }
   ],
   "source": [
    "# Matriu de correlacions\n",
    "corr_data = mlb.iloc[:,3:]\n",
    "corr_matrix = corr_data.corr()\n",
    "corr_matrix.head()"
   ]
  },
  {
   "cell_type": "code",
   "execution_count": 14,
   "id": "842d6423",
   "metadata": {},
   "outputs": [
    {
     "data": {
      "image/png": "[encoded data removed]",
      "text/plain": [
       "<Figure size 720x720 with 2 Axes>"
      ]
     },
     "metadata": {
      "needs_background": "light"
     },
     "output_type": "display_data"
    }
   ],
   "source": [
    "# Gràfic de intensitat de la matriu de correlacions\n",
    "fig, ax = plt.subplots(figsize=(10,10))  \n",
    "\n",
    "ax = sns.heatmap(\n",
    "    corr_matrix, \n",
    "    vmin=-1, vmax=1, center=0,\n",
    "    cmap=sns.diverging_palette(20, 220, n=200),\n",
    "    square=True\n",
    ")\n",
    "ax.set_xticklabels(\n",
    "    ax.get_xticklabels(),\n",
    "    rotation=45,\n",
    "    horizontalalignment='right'\n",
    ");"
   ]
  },
  {
   "cell_type": "markdown",
   "id": "84b2ac82",
   "metadata": {},
   "source": [
    "#### Nivell 3. Exercici 4. Selecciona un atribut i calcula la mitjana geomètrica i la mitjana harmònica."
   ]
  },
  {
   "cell_type": "code",
   "execution_count": 15,
   "id": "cc8e4222",
   "metadata": {},
   "outputs": [],
   "source": [
    "from scipy.stats.mstats import gmean\n",
    "from scipy.stats.mstats import hmean"
   ]
  },
  {
   "cell_type": "code",
   "execution_count": 16,
   "id": "f8b2fa73",
   "metadata": {},
   "outputs": [
    {
     "data": {
      "text/plain": [
       "1480.3381178021461"
      ]
     },
     "execution_count": 16,
     "metadata": {},
     "output_type": "execute_result"
    }
   ],
   "source": [
    "# Mitjana geomètrica\n",
    "gmean(mlb['salary'])"
   ]
  },
  {
   "cell_type": "code",
   "execution_count": 17,
   "id": "1eb44470",
   "metadata": {},
   "outputs": [
    {
     "data": {
      "text/plain": [
       "830.9388051739915"
      ]
     },
     "execution_count": 17,
     "metadata": {},
     "output_type": "execute_result"
    }
   ],
   "source": [
    "# Mitjana harmònica\n",
    "hmean(mlb['salary'])"
   ]
  }
 ],
 "metadata": {
  "kernelspec": {
   "display_name": "Python 3",
   "language": "python",
   "name": "python3"
  },
  "language_info": {
   "codemirror_mode": {
    "name": "ipython",
    "version": 3
   },
   "file_extension": ".py",
   "mimetype": "text/x-python",
   "name": "python",
   "nbconvert_exporter": "python",
   "pygments_lexer": "ipython3",
   "version": "3.8.8"
  }
 },
 "nbformat": 4,
 "nbformat_minor": 5
}
